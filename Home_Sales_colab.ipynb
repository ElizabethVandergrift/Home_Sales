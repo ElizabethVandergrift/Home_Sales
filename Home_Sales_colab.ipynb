{
  "cells": [
    {
      "cell_type": "code",
      "execution_count": 1,
      "metadata": {
        "colab": {
          "base_uri": "https://localhost:8080/"
        },
        "id": "a_KW73O2e3dw",
        "outputId": "7165ee60-58ce-4a55-9b98-5924df8bfab0"
      },
      "outputs": [
        {
          "output_type": "stream",
          "name": "stdout",
          "text": [
            "\r0% [Working]\r            \rGet:1 https://developer.download.nvidia.com/compute/cuda/repos/ubuntu2204/x86_64  InRelease [1,581 B]\n",
            "Get:2 https://cloud.r-project.org/bin/linux/ubuntu jammy-cran40/ InRelease [3,626 B]\n",
            "Get:3 http://security.ubuntu.com/ubuntu jammy-security InRelease [129 kB]\n",
            "Hit:4 http://archive.ubuntu.com/ubuntu jammy InRelease\n",
            "Ign:5 https://r2u.stat.illinois.edu/ubuntu jammy InRelease\n",
            "Get:6 https://r2u.stat.illinois.edu/ubuntu jammy Release [5,713 B]\n",
            "Get:7 https://r2u.stat.illinois.edu/ubuntu jammy Release.gpg [793 B]\n",
            "Get:8 http://archive.ubuntu.com/ubuntu jammy-updates InRelease [128 kB]\n",
            "Get:9 https://developer.download.nvidia.com/compute/cuda/repos/ubuntu2204/x86_64  Packages [998 kB]\n",
            "Get:10 https://ppa.launchpadcontent.net/deadsnakes/ppa/ubuntu jammy InRelease [18.1 kB]\n",
            "Hit:11 https://ppa.launchpadcontent.net/graphics-drivers/ppa/ubuntu jammy InRelease\n",
            "Hit:12 http://archive.ubuntu.com/ubuntu jammy-backports InRelease\n",
            "Hit:13 https://ppa.launchpadcontent.net/ubuntugis/ppa/ubuntu jammy InRelease\n",
            "Get:14 https://r2u.stat.illinois.edu/ubuntu jammy/main amd64 Packages [2,572 kB]\n",
            "Get:15 http://security.ubuntu.com/ubuntu jammy-security/main amd64 Packages [2,224 kB]\n",
            "Get:16 https://r2u.stat.illinois.edu/ubuntu jammy/main all Packages [8,293 kB]\n",
            "Get:17 http://security.ubuntu.com/ubuntu jammy-security/universe amd64 Packages [1,149 kB]\n",
            "Get:18 https://ppa.launchpadcontent.net/deadsnakes/ppa/ubuntu jammy/main amd64 Packages [28.6 kB]\n",
            "Get:19 http://archive.ubuntu.com/ubuntu jammy-updates/universe amd64 Packages [1,438 kB]\n",
            "Get:20 http://archive.ubuntu.com/ubuntu jammy-updates/main amd64 Packages [2,499 kB]\n",
            "Fetched 19.5 MB in 7s (2,958 kB/s)\n",
            "Reading package lists... Done\n",
            "W: Skipping acquire of configured file 'main/source/Sources' as repository 'https://r2u.stat.illinois.edu/ubuntu jammy InRelease' does not seem to provide it (sources.list entry misspelt?)\n"
          ]
        }
      ],
      "source": [
        "import os\n",
        "# Find the latest version of spark 3.x  from http://www.apache.org/dist/spark/ and enter as the spark version\n",
        "# For example:\n",
        "# spark_version = 'spark-3.4.0'\n",
        "spark_version = 'spark-3.5.2'\n",
        "os.environ['SPARK_VERSION']=spark_version\n",
        "\n",
        "# Install Spark and Java\n",
        "!apt-get update\n",
        "!apt-get install openjdk-11-jdk-headless -qq > /dev/null\n",
        "!wget -q http://www.apache.org/dist/spark/$SPARK_VERSION/$SPARK_VERSION-bin-hadoop3.tgz\n",
        "!tar xf $SPARK_VERSION-bin-hadoop3.tgz\n",
        "!pip install -q findspark\n",
        "\n",
        "# Set Environment Variables\n",
        "os.environ[\"JAVA_HOME\"] = \"/usr/lib/jvm/java-11-openjdk-amd64\"\n",
        "os.environ[\"SPARK_HOME\"] = f\"/content/{spark_version}-bin-hadoop3\"\n",
        "\n",
        "# Start a SparkSession\n",
        "import findspark\n",
        "findspark.init()"
      ]
    },
    {
      "cell_type": "code",
      "execution_count": 2,
      "metadata": {
        "id": "2XbWNf1Te5fM"
      },
      "outputs": [],
      "source": [
        "# Import packages\n",
        "from pyspark.sql import SparkSession\n",
        "import time\n",
        "from pyspark import SparkFiles\n",
        "from pyspark.sql.functions import avg, round, year"
      ]
    },
    {
      "cell_type": "code",
      "execution_count": 3,
      "metadata": {
        "id": "wOJqxG_RPSwp"
      },
      "outputs": [],
      "source": [
        "URL = \"https://2u-data-curriculum-team.s3.amazonaws.com/dataviz-classroom/v1.2/22-big-data/home_sales_revised.csv\""
      ]
    },
    {
      "cell_type": "code",
      "source": [
        "# Create a SparkSession\n",
        "spark = SparkSession.builder.appName(\"SparkSQL\").getOrCreate()\n",
        "\n",
        "# 1. Read in the AWS S3 bucket into a DataFrame.\n",
        "# 1.1. Download the file\n",
        "spark.sparkContext.addFile(URL)\n",
        "# 1.2. Determine the local path to the file\n",
        "home_csv_path = f\"file://{SparkFiles.get(os.path.basename(URL))}\"\n",
        "# 1.3. Load the local file into a dataframe\n",
        "homes_df = spark.read.csv(home_csv_path, header=True, inferSchema=True)\n",
        "\n",
        "homes_df.show()"
      ],
      "metadata": {
        "colab": {
          "base_uri": "https://localhost:8080/"
        },
        "id": "Eb8DikWs04vL",
        "outputId": "11150fb4-2a1c-4377-8eca-92d66cd5d53e"
      },
      "execution_count": 4,
      "outputs": [
        {
          "output_type": "stream",
          "name": "stdout",
          "text": [
            "+--------------------+----------+----------+------+--------+---------+-----------+--------+------+----------+----+\n",
            "|                  id|      date|date_built| price|bedrooms|bathrooms|sqft_living|sqft_lot|floors|waterfront|view|\n",
            "+--------------------+----------+----------+------+--------+---------+-----------+--------+------+----------+----+\n",
            "|f8a53099-ba1c-47d...|2022-04-08|      2016|936923|       4|        3|       3167|   11733|     2|         1|  76|\n",
            "|7530a2d8-1ae3-451...|2021-06-13|      2013|379628|       2|        2|       2235|   14384|     1|         0|  23|\n",
            "|43de979c-0bf0-4c9...|2019-04-12|      2014|417866|       2|        2|       2127|   10575|     2|         0|   0|\n",
            "|b672c137-b88c-48b...|2019-10-16|      2016|239895|       2|        2|       1631|   11149|     2|         0|   0|\n",
            "|e0726d4d-d595-407...|2022-01-08|      2017|424418|       3|        2|       2249|   13878|     2|         0|   4|\n",
            "|5aa00529-0533-46b...|2019-01-30|      2017|218712|       2|        3|       1965|   14375|     2|         0|   7|\n",
            "|131492a1-72e2-4a8...|2020-02-08|      2017|419199|       2|        3|       2062|    8876|     2|         0|   6|\n",
            "|8d54a71b-c520-44e...|2019-07-21|      2010|323956|       2|        3|       1506|   11816|     1|         0|  25|\n",
            "|e81aacfe-17fe-46b...|2020-06-16|      2016|181925|       3|        3|       2137|   11709|     2|         0|  22|\n",
            "|2ed8d509-7372-46d...|2021-08-06|      2015|258710|       3|        3|       1918|    9666|     1|         0|  25|\n",
            "|f876d86f-3c9f-42b...|2019-02-27|      2011|167864|       3|        3|       2471|   13924|     2|         0|  15|\n",
            "|0a2bd445-8508-4d8...|2021-12-30|      2014|337527|       2|        3|       1926|   12556|     1|         0|  23|\n",
            "|941bad30-eb49-4a7...|2020-05-09|      2015|229896|       3|        3|       2197|    8641|     1|         0|   3|\n",
            "|dd61eb34-6589-4c0...|2021-07-25|      2016|210247|       3|        2|       1672|   11986|     2|         0|  28|\n",
            "|f1e4cef7-d151-439...|2019-02-01|      2011|398667|       2|        3|       2331|   11356|     1|         0|   7|\n",
            "|ea620c7b-c2f7-4c6...|2021-05-31|      2011|437958|       3|        3|       2356|   11052|     1|         0|  26|\n",
            "|f233cb41-6f33-4b0...|2021-07-18|      2016|437375|       4|        3|       1704|   11721|     2|         0|  34|\n",
            "|c797ca12-52cd-4b1...|2019-06-08|      2015|288650|       2|        3|       2100|   10419|     2|         0|   7|\n",
            "|0cfe57f3-28c2-472...|2019-10-04|      2015|308313|       3|        3|       1960|    9453|     2|         0|   2|\n",
            "|4566cd2a-ac6e-435...|2019-07-15|      2016|177541|       3|        3|       2130|   10517|     2|         0|  25|\n",
            "+--------------------+----------+----------+------+--------+---------+-----------+--------+------+----------+----+\n",
            "only showing top 20 rows\n",
            "\n"
          ]
        }
      ]
    },
    {
      "cell_type": "code",
      "execution_count": 5,
      "metadata": {
        "id": "RoljcJ7WPpnm"
      },
      "outputs": [],
      "source": [
        "# 2. Create a temporary view of the DataFrame.\n",
        "homes_df.createOrReplaceTempView('homes')"
      ]
    },
    {
      "cell_type": "code",
      "execution_count": 6,
      "metadata": {
        "id": "L6fkwOeOmqvq",
        "colab": {
          "base_uri": "https://localhost:8080/"
        },
        "outputId": "8bb5f412-f80d-4eb0-bcce-5d464bc359db"
      },
      "outputs": [
        {
          "output_type": "stream",
          "name": "stdout",
          "text": [
            "+----+-------------+\n",
            "|Year|Average_Price|\n",
            "+----+-------------+\n",
            "|2022|    296363.88|\n",
            "|2021|    301819.44|\n",
            "|2020|    298353.78|\n",
            "|2019|     300263.7|\n",
            "+----+-------------+\n",
            "\n"
          ]
        }
      ],
      "source": [
        "# 3. What is the average price for a four bedroom house sold per year, rounded to two decimal places?\n",
        "avg_4br_query = \"\"\"\n",
        "  SELECT YEAR(date) AS Year, ROUND(AVG(price), 2) AS Average_Price\n",
        "  FROM homes\n",
        "  WHERE bedrooms=4\n",
        "  GROUP BY Year\n",
        "  ORDER BY Year DESC\n",
        "\"\"\"\n",
        "spark.sql(avg_4br_query).show()"
      ]
    },
    {
      "cell_type": "code",
      "execution_count": 7,
      "metadata": {
        "id": "l8p_tUS8h8it",
        "colab": {
          "base_uri": "https://localhost:8080/"
        },
        "outputId": "14f267e6-cea6-4051-cbf8-3481eb81e242"
      },
      "outputs": [
        {
          "output_type": "stream",
          "name": "stdout",
          "text": [
            "+----+-------------+\n",
            "|Year|Average_Price|\n",
            "+----+-------------+\n",
            "|2022|    292725.69|\n",
            "|2021|    294211.46|\n",
            "|2020|    294204.16|\n",
            "|2019|    287287.82|\n",
            "+----+-------------+\n",
            "\n"
          ]
        }
      ],
      "source": [
        "# 4. What is the average price of a home for each year the home was built,\n",
        "# that have 3 bedrooms and 3 bathrooms, rounded to two decimal places?\n",
        "avg_3br_query = \"\"\"\n",
        "  SELECT YEAR(date) AS Year, ROUND(AVG(price), 2) AS Average_Price\n",
        "  FROM homes\n",
        "  WHERE bedrooms=3\n",
        "  AND bathrooms=3\n",
        "  GROUP BY Year\n",
        "  ORDER BY Year DESC\n",
        "\"\"\"\n",
        "spark.sql(avg_3br_query).show()"
      ]
    },
    {
      "cell_type": "code",
      "execution_count": 8,
      "metadata": {
        "id": "Y-Eytz64liDU",
        "colab": {
          "base_uri": "https://localhost:8080/"
        },
        "outputId": "c1bfb408-c3e8-47b8-bac6-0d294a3f3ae0"
      },
      "outputs": [
        {
          "output_type": "stream",
          "name": "stdout",
          "text": [
            "+----+-------------+\n",
            "|Year|Average_Price|\n",
            "+----+-------------+\n",
            "|2022|    290242.99|\n",
            "|2021|    296330.96|\n",
            "|2020|    292289.09|\n",
            "|2019|    289859.14|\n",
            "+----+-------------+\n",
            "\n"
          ]
        }
      ],
      "source": [
        "# 5. What is the average price of a home for each year the home was built,\n",
        "# that have 3 bedrooms, 3 bathrooms, with two floors,\n",
        "# and are greater than or equal to 2,000 square feet, rounded to two decimal places?\n",
        "avg_2flrs_query = \"\"\"\n",
        "  SELECT YEAR(date) AS Year, ROUND(AVG(price), 2) AS Average_Price\n",
        "  FROM homes\n",
        "  WHERE bedrooms=3\n",
        "  AND bathrooms=3\n",
        "  AND floors=2\n",
        "  AND sqft_living>=2000\n",
        "  GROUP BY Year\n",
        "  ORDER BY Year DESC\n",
        "\"\"\"\n",
        "spark.sql(avg_2flrs_query).show()"
      ]
    },
    {
      "cell_type": "code",
      "source": [
        "# 6. What is the average price of a home per \"view\" rating, rounded to two decimal places,\n",
        "# having an average home price greater than or equal to $350,000? Order by descending view rating.\n",
        "view_query = \"\"\"\n",
        "  SELECT view AS View_Rating, ROUND(AVG(price), 2) AS Average_Price\n",
        "  FROM homes\n",
        "  GROUP BY View_Rating\n",
        "  HAVING Average_Price >= 350000\n",
        "  ORDER BY View_Rating DESC\n",
        "\"\"\""
      ],
      "metadata": {
        "id": "TaZ7ef45A1SF"
      },
      "execution_count": 9,
      "outputs": []
    },
    {
      "cell_type": "code",
      "execution_count": 10,
      "metadata": {
        "colab": {
          "base_uri": "https://localhost:8080/"
        },
        "id": "GUrfgOX1pCRd",
        "outputId": "8041e657-54da-4c1f-e410-9cd2b0eb98b9"
      },
      "outputs": [
        {
          "output_type": "stream",
          "name": "stdout",
          "text": [
            "Is table cached? False\n",
            "+-----------+-------------+\n",
            "|View_Rating|Average_Price|\n",
            "+-----------+-------------+\n",
            "|        100|    1026669.5|\n",
            "|         99|   1061201.42|\n",
            "|         98|   1053739.33|\n",
            "|         97|   1129040.15|\n",
            "|         96|   1017815.92|\n",
            "|         95|    1054325.6|\n",
            "|         94|    1033536.2|\n",
            "|         93|   1026006.06|\n",
            "|         92|    970402.55|\n",
            "|         91|   1137372.73|\n",
            "|         90|   1062654.16|\n",
            "|         89|   1107839.15|\n",
            "|         88|   1031719.35|\n",
            "|         87|    1072285.2|\n",
            "|         86|   1070444.25|\n",
            "|         85|   1056336.74|\n",
            "|         84|   1117233.13|\n",
            "|         83|   1033965.93|\n",
            "|         82|    1063498.0|\n",
            "|         81|   1053472.79|\n",
            "+-----------+-------------+\n",
            "only showing top 20 rows\n",
            "\n",
            "--- 0.9549717903137207 seconds ---\n"
          ]
        }
      ],
      "source": [
        "# Although this is a small dataset, determine the run time for this query.\n",
        "print(\"Is table cached?\", spark.catalog.isCached('homes'))\n",
        "start_time = time.time()\n",
        "spark.sql(view_query).show()\n",
        "print(\"--- %s seconds ---\" % (time.time() - start_time))"
      ]
    },
    {
      "cell_type": "code",
      "execution_count": 11,
      "metadata": {
        "id": "KAhk3ZD2tFy8",
        "colab": {
          "base_uri": "https://localhost:8080/"
        },
        "outputId": "a62ca0bd-de58-4d27-8d69-7338f849b6a5"
      },
      "outputs": [
        {
          "output_type": "stream",
          "name": "stdout",
          "text": [
            "Is table cached? False\n",
            "Is table cached? True\n"
          ]
        }
      ],
      "source": [
        "# 7. Cache the the temporary table home_sales.\n",
        "print(\"Is table cached?\", spark.catalog.isCached('homes'))\n",
        "\n",
        "spark.catalog.cacheTable('homes')\n",
        "\n",
        "print(\"Is table cached?\", spark.catalog.isCached('homes'))"
      ]
    },
    {
      "cell_type": "code",
      "execution_count": 12,
      "metadata": {
        "colab": {
          "base_uri": "https://localhost:8080/"
        },
        "id": "5GnL46lwTSEk",
        "outputId": "e71dc29d-e61b-44e3-9dc6-f53533ae38f7"
      },
      "outputs": [
        {
          "output_type": "stream",
          "name": "stdout",
          "text": [
            "Is table cached? True\n",
            "+-----------+-------------+\n",
            "|View_Rating|Average_Price|\n",
            "+-----------+-------------+\n",
            "|        100|    1026669.5|\n",
            "|         99|   1061201.42|\n",
            "|         98|   1053739.33|\n",
            "|         97|   1129040.15|\n",
            "|         96|   1017815.92|\n",
            "|         95|    1054325.6|\n",
            "|         94|    1033536.2|\n",
            "|         93|   1026006.06|\n",
            "|         92|    970402.55|\n",
            "|         91|   1137372.73|\n",
            "|         90|   1062654.16|\n",
            "|         89|   1107839.15|\n",
            "|         88|   1031719.35|\n",
            "|         87|    1072285.2|\n",
            "|         86|   1070444.25|\n",
            "|         85|   1056336.74|\n",
            "|         84|   1117233.13|\n",
            "|         83|   1033965.93|\n",
            "|         82|    1063498.0|\n",
            "|         81|   1053472.79|\n",
            "+-----------+-------------+\n",
            "only showing top 20 rows\n",
            "\n",
            "--- 1.9538230895996094 seconds ---\n"
          ]
        }
      ],
      "source": [
        "# 9. Using the cached data, run the last query above, that calculates\n",
        "# the average price of a home per \"view\" rating, rounded to two decimal places,\n",
        "# having an average home price greater than or equal to $350,000.\n",
        "# Determine the runtime and compare it to the uncached runtime.\n",
        "print(\"Is table cached?\", spark.catalog.isCached('homes'))\n",
        "\n",
        "start_time = time.time()\n",
        "\n",
        "# Just rerun the query and not rewrite it\n",
        "spark.sql(view_query).show()\n",
        "print(\"--- %s seconds ---\" % (time.time() - start_time))"
      ]
    },
    {
      "cell_type": "code",
      "execution_count": 13,
      "metadata": {
        "id": "Qm12WN9isHBR"
      },
      "outputs": [],
      "source": [
        "# 10. Partition by the \"date_built\" field on the formatted parquet home sales data\n",
        "homes_df.write.partitionBy(\"date_built\").mode(\"overwrite\").parquet(\"homes_partitioned\")"
      ]
    },
    {
      "cell_type": "code",
      "execution_count": 14,
      "metadata": {
        "id": "AZ7BgY61sRqY"
      },
      "outputs": [],
      "source": [
        "# 11. Read the parquet formatted data.\n",
        "homes_df_part=spark.read.parquet('homes_partitioned')"
      ]
    },
    {
      "cell_type": "code",
      "execution_count": 15,
      "metadata": {
        "id": "J6MJkHfvVcvh"
      },
      "outputs": [],
      "source": [
        "# 12. Create a temporary table for the parquet data.\n",
        "homes_df_part.createOrReplaceTempView('homes_part')"
      ]
    },
    {
      "cell_type": "code",
      "execution_count": 16,
      "metadata": {
        "colab": {
          "base_uri": "https://localhost:8080/"
        },
        "id": "G_Vhb52rU1Sn",
        "outputId": "a3ee8b31-04db-40c7-b164-79cb9da96ced"
      },
      "outputs": [
        {
          "output_type": "stream",
          "name": "stdout",
          "text": [
            "--- 0.00011610984802246094 seconds ---\n"
          ]
        }
      ],
      "source": [
        "# 13. Using the parquet DataFrame, run the last query above, that calculates\n",
        "# the average price of a home per \"view\" rating, rounded to two decimal places,\n",
        "# having an average home price greater than or equal to $350,000.\n",
        "# Determine the runtime and compare it to the cached runtime.\n",
        "\n",
        "start_time = time.time()\n",
        "\n",
        "view_query = \"\"\"\n",
        "  SELECT view AS View_Rating, ROUND(AVG(price), 2) AS Average_Price\n",
        "  FROM homes_part\n",
        "  GROUP BY View_Rating\n",
        "  HAVING Average_Price >= 350000\n",
        "  ORDER BY View_Rating DESC\n",
        "\"\"\"\n",
        "\n",
        "print(\"--- %s seconds ---\" % (time.time() - start_time))"
      ]
    },
    {
      "cell_type": "code",
      "execution_count": 17,
      "metadata": {
        "id": "hjjYzQGjtbq8",
        "colab": {
          "base_uri": "https://localhost:8080/"
        },
        "outputId": "dad45cc0-73ee-4a73-8904-5cadb1861245"
      },
      "outputs": [
        {
          "output_type": "stream",
          "name": "stdout",
          "text": [
            "Is table cached? True\n",
            "Is table cached? False\n"
          ]
        }
      ],
      "source": [
        "# 14. Uncache the home_sales temporary table.\n",
        "print(\"Is table cached?\", spark.catalog.isCached('homes'))\n",
        "\n",
        "spark.catalog.uncacheTable('homes')\n",
        "\n",
        "print(\"Is table cached?\", spark.catalog.isCached('homes'))"
      ]
    },
    {
      "cell_type": "code",
      "execution_count": 17,
      "metadata": {
        "id": "Si-BNruRUGK3"
      },
      "outputs": [],
      "source": []
    }
  ],
  "metadata": {
    "colab": {
      "provenance": []
    },
    "gpuClass": "standard",
    "kernelspec": {
      "display_name": "Python 3 (ipykernel)",
      "language": "python",
      "name": "python3"
    },
    "language_info": {
      "codemirror_mode": {
        "name": "ipython",
        "version": 3
      },
      "file_extension": ".py",
      "mimetype": "text/x-python",
      "name": "python",
      "nbconvert_exporter": "python",
      "pygments_lexer": "ipython3",
      "version": "3.10.4"
    },
    "nteract": {
      "version": "0.28.0"
    }
  },
  "nbformat": 4,
  "nbformat_minor": 0
}